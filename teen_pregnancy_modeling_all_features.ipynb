{
 "cells": [
  {
   "cell_type": "markdown",
   "metadata": {},
   "source": [
    "This code was used to model the initial teen pregnancy dataset with all pulled features. The second notebook file is the same modeling process but on fewer, more important features"
   ]
  },
  {
   "cell_type": "code",
   "execution_count": 252,
   "metadata": {
    "collapsed": true
   },
   "outputs": [],
   "source": [
    "### Importing all of the cool things I'll need...\n",
    "\n",
    "import pandas as pd\n",
    "import numpy as np\n",
    "import matplotlib.pyplot as plt\n",
    "import seaborn as sns\n",
    "import random\n",
    "from sklearn import cross_validation\n",
    "from sklearn.cross_validation import train_test_split, cross_val_score, ShuffleSplit\n",
    "from sklearn.neighbors import KNeighborsClassifier\n",
    "from sklearn.linear_model import LogisticRegression\n",
    "from sklearn.metrics import accuracy_score, precision_score, recall_score, f1_score, roc_auc_score, roc_curve\n",
    "from sklearn.learning_curve import learning_curve\n",
    "from sklearn.naive_bayes import GaussianNB\n",
    "from sklearn.svm import SVC\n",
    "from sklearn.tree import DecisionTreeClassifier\n",
    "from sklearn.ensemble import RandomForestClassifier, RandomForestRegressor, GradientBoostingClassifier\n",
    "\n",
    "%matplotlib inline"
   ]
  },
  {
   "cell_type": "code",
   "execution_count": null,
   "metadata": {
    "collapsed": true
   },
   "outputs": [],
   "source": [
    "### Function for calculating cross-validation scores across models\n",
    "\n",
    "def cv_score_means(model, X, y, score_type):\n",
    "    scores = cross_val_score(model, X, y, cv=30, scoring=score_type)\n",
    "    return scores.mean()"
   ]
  },
  {
   "cell_type": "code",
   "execution_count": 1,
   "metadata": {
    "collapsed": false
   },
   "outputs": [
    {
     "data": {
      "text/html": [
       "\n",
       "<style>\n",
       "    div#notebook-container    { width: 95%; }\n",
       "    div#menubar-container     { width: 65%; }\n",
       "    div#maintoolbar-container { width: 99%; }\n",
       "</style>\n"
      ],
      "text/plain": [
       "<IPython.core.display.HTML object>"
      ]
     },
     "metadata": {},
     "output_type": "display_data"
    }
   ],
   "source": [
    "### Increases the display width of the Jupyter notebook\n",
    "\n",
    "from IPython.display import display, HTML\n",
    "\n",
    "display(HTML(data=\"\"\"\n",
    "<style>\n",
    "    div#notebook-container    { width: 95%; }\n",
    "    div#menubar-container     { width: 65%; }\n",
    "    div#maintoolbar-container { width: 99%; }\n",
    "</style>\n",
    "\"\"\"))"
   ]
  },
  {
   "cell_type": "code",
   "execution_count": 254,
   "metadata": {
    "collapsed": true
   },
   "outputs": [],
   "source": [
    "### Reads the feature file to a pandas dataframe\n",
    "\n",
    "df = pd.read_csv('mcnulty.csv')"
   ]
  },
  {
   "cell_type": "code",
   "execution_count": 257,
   "metadata": {
    "collapsed": true
   },
   "outputs": [],
   "source": [
    "### Feature list for Random Forest feature importance measure\n",
    "### Five columns of random noise are added to test features\n",
    "\n",
    "rng = [x for x in range(1, 6)]\n",
    "\n",
    "for i in rng:\n",
    "    col_name = 'RAND_' + str(i)\n",
    "    df[col_name] = 1\n",
    "    df[col_name] = df[col_name].map(lambda x: x * random.randint(0, 100))\n",
    "\n",
    "\n",
    "feature_list = ['% Smokers', '% Obese', '% Binge Drinking',\n",
    "       'Chlamydia Rates per 100,000', 'Primary Care Physician Rate',\n",
    "       'No of Medicare enrollees', 'Avg Freshman Graduation Rate', '% College',\n",
    "       '% unemployed', '% Children in Poverty', 'GINI',\n",
    "       '% Single-Parent Households', 'Violent Crime Rate', 'Liquor Store Rate',\n",
    "       'Adherents %', 'Congregations Per 10K People', 'Hispanic',\n",
    "       'Hispanic, younger than 20', 'Non-Hipanic Black, younger than 20',\n",
    "       'Non-Hispanic Black', 'Non-Hispanic White',\n",
    "       'Non-Hispanic White,  younger than 20',\n",
    "       'Total women aged 13-44 in need of contraceptive services and supplies',\n",
    "       'Total women aged 13-44 in need of publicly funded contraceptive services and supplies',\n",
    "       'Women aged 20-44 and <250% of federal poverty level in need of publicly funded contraceptive services and supplies',\n",
    "       'Women younger than 20 in need of publicly funded contraceptive services and supplies',\n",
    "       '% uninsured women aged 20-44 and <138% of federal poverty level in need of publicly funded contraceptive services',\n",
    "       '% uninsured women aged 20-44 and between 138-249% of federal poverty level in need of publicly funded contraceptive services',\n",
    "       '% uninsured women younger than 20 in need of publicly funded contraceptive services',\n",
    "       'Total % uninsured women in need of publicly funded contraceptive services,',\n",
    "       'Total uninsured women in need of publicly funded contraceptive services',\n",
    "       'Uninsured women aged 20-44 and <138% of federal poverty level in need of publicly funded contraceptive services',\n",
    "       'Uninsured women aged 20-44 and between 138-249% of federal poverty level  in need of publicly funded contraceptive services',\n",
    "       'Uninsured women younger than 20 in need of publicly funded contraceptive services',\n",
    "       'Number of Planned Parenthood clinics',\n",
    "       'Number of federally funded qualified health centers',\n",
    "       'Number of health department clinics', 'Number of hospitals',\n",
    "       'Number of other clinics', 'Total publicly funded clinics',\n",
    "       'Health department', 'Hospital', 'Other', 'Planned Parenthood',\n",
    "       'Total Title X-funded clinics',\n",
    "       'Number of female contraceptive clients served at Planned Parenthood clinics',\n",
    "       'Number of female contraceptive clients served at federally funded qualified health centers',\n",
    "       'Number of female contraceptive clients served at health department clinics',\n",
    "       'Number of female contraceptive clients served at hospitals',\n",
    "       'Number of female contraceptive clients served at other clinics',\n",
    "       'Total', 'Total, younger than 20', 'Population of women aged 13-44',\n",
    "       'Women aged 18-19 in need of contraceptive services and supplies',\n",
    "       'Women aged 20-29 in need of contraceptive services and supplies',\n",
    "       'Women aged 30-34 in need of contraceptive services and supplies',\n",
    "       'Women younger than 18 in need of contraceptive services and supplies',\n",
    "       'Total women aged 20-44 in need of contraceptive services and supplies  ',\n",
    "       'Women aged 20-44 and <100% federal poverty level in need of contraceptive services and supplies',\n",
    "       'Women aged 20-44 and >250% of poverty level in need of contraceptive services and supplies',\n",
    "       'Women aged 20-44 and between 100-137% federal poverty level in need of contraceptive services and supplies',\n",
    "       'Women aged 20-44 and between 138-199% federal poverty level in need of contraceptive services and supplies',\n",
    "       'Women aged 20-44 and between 200-249% federal poverty level in need of contraceptive services and supplies','RAND_1', 'RAND_2', 'RAND_3', 'RAND_4', 'RAND_5']"
   ]
  },
  {
   "cell_type": "markdown",
   "metadata": {},
   "source": [
    "Splitting into initial test-train sets"
   ]
  },
  {
   "cell_type": "code",
   "execution_count": 258,
   "metadata": {
    "collapsed": false
   },
   "outputs": [],
   "source": [
    "tp_tgt = df['High Risk']\n",
    "tp_vars = df[feature_list]"
   ]
  },
  {
   "cell_type": "code",
   "execution_count": 259,
   "metadata": {
    "collapsed": false
   },
   "outputs": [],
   "source": [
    "### Converts the remaining non-integer features to integers\n",
    "\n",
    "df['Total publicly funded clinics'] = df['Total publicly funded clinics'].astype(int)\n",
    "df['Total'] = df['Total'].astype(int)\n",
    "df['Total, younger than 20'] = df['Total, younger than 20'].astype(int)"
   ]
  },
  {
   "cell_type": "code",
   "execution_count": 260,
   "metadata": {
    "collapsed": false
   },
   "outputs": [
    {
     "name": "stderr",
     "output_type": "stream",
     "text": [
      "/Users/ramohse/anaconda/lib/python3.5/site-packages/ipykernel/__main__.py:2: SettingWithCopyWarning: \n",
      "A value is trying to be set on a copy of a slice from a DataFrame.\n",
      "Try using .loc[row_indexer,col_indexer] = value instead\n",
      "\n",
      "See the caveats in the documentation: http://pandas.pydata.org/pandas-docs/stable/indexing.html#indexing-view-versus-copy\n",
      "  from ipykernel import kernelapp as app\n"
     ]
    }
   ],
   "source": [
    "### Replaces missing values in data with the median value\n",
    "\n",
    "for i in feature_list:\n",
    "    tp_vars[i] = tp_vars[i].replace(np.nan, tp_vars[i].median())"
   ]
  },
  {
   "cell_type": "code",
   "execution_count": 261,
   "metadata": {
    "collapsed": true
   },
   "outputs": [],
   "source": [
    "### Train-test split\n",
    "\n",
    "X_train, X_test, y_train, y_test = cross_validation.train_test_split(tp_vars, tp_tgt, test_size=0.3)"
   ]
  },
  {
   "cell_type": "markdown",
   "metadata": {},
   "source": [
    "### Random Forest Model\n",
    "Measures prediction accuracy and feature importance"
   ]
  },
  {
   "cell_type": "code",
   "execution_count": 262,
   "metadata": {
    "collapsed": false
   },
   "outputs": [
    {
     "name": "stdout",
     "output_type": "stream",
     "text": [
      "0.860341151386\n",
      "('% Children in Poverty', 0.33895936773792984)\n",
      "('Chlamydia Rates per 100,000', 0.069046209705574735)\n",
      "('% College', 0.04986841175370689)\n",
      "('Avg Freshman Graduation Rate', 0.040101001642121929)\n",
      "('Total % uninsured women in need of publicly funded contraceptive services,', 0.032539314910002726)\n",
      "('Adherents %', 0.029544719517681756)\n",
      "('% Single-Parent Households', 0.029008549227247587)\n",
      "('% Obese', 0.017187070982098349)\n",
      "('RAND_4', 0.016909839124059904)\n",
      "('% Binge Drinking', 0.016646862056464571)\n",
      "('RAND_1', 0.015508388028552549)\n",
      "('RAND_5', 0.014674075865713376)\n",
      "('Primary Care Physician Rate', 0.014504567727270028)\n",
      "('GINI', 0.014470418742182736)\n",
      "('RAND_3', 0.014120208973178519)\n",
      "('% Smokers', 0.014019568718104579)\n",
      "('RAND_2', 0.013849118756892445)\n",
      "('% uninsured women younger than 20 in need of publicly funded contraceptive services', 0.013645324411312838)\n",
      "('Congregations Per 10K People', 0.013563228661126268)\n",
      "('Violent Crime Rate', 0.012497820210167123)\n",
      "('Uninsured women aged 20-44 and between 138-249% of federal poverty level  in need of publicly funded contraceptive services', 0.012270716862354323)\n",
      "('Total uninsured women in need of publicly funded contraceptive services', 0.011919225067878984)\n",
      "('Uninsured women aged 20-44 and <138% of federal poverty level in need of publicly funded contraceptive services', 0.011861078748495825)\n",
      "('No of Medicare enrollees', 0.010478627201315155)\n",
      "('% uninsured women aged 20-44 and between 138-249% of federal poverty level in need of publicly funded contraceptive services', 0.0098158629795887624)\n",
      "('Liquor Store Rate', 0.009791037825174086)\n",
      "('Total women aged 13-44 in need of contraceptive services and supplies', 0.0094121931283281061)\n",
      "('% unemployed', 0.0084721708571119936)\n",
      "('Women younger than 20 in need of publicly funded contraceptive services and supplies', 0.0081903533523483459)\n",
      "('% uninsured women aged 20-44 and <138% of federal poverty level in need of publicly funded contraceptive services', 0.0075717232185660288)\n",
      "('Women aged 20-44 and <250% of federal poverty level in need of publicly funded contraceptive services and supplies', 0.0075064898786865366)\n",
      "('Uninsured women younger than 20 in need of publicly funded contraceptive services', 0.0072267051208436926)\n",
      "('Total, younger than 20', 0.0064104972927082971)\n",
      "('Women aged 20-44 and between 138-199% federal poverty level in need of contraceptive services and supplies', 0.0061014165455326903)\n",
      "('Non-Hispanic White,  younger than 20', 0.0059135302553681686)\n",
      "('Number of female contraceptive clients served at health department clinics', 0.005284231836312602)\n",
      "('Women aged 20-44 and between 200-249% federal poverty level in need of contraceptive services and supplies', 0.0050117559068687464)\n",
      "('Total', 0.0046274825841370239)\n",
      "('Women aged 20-44 and <100% federal poverty level in need of contraceptive services and supplies', 0.0046239537148002286)\n",
      "('Total women aged 13-44 in need of publicly funded contraceptive services and supplies', 0.0044342363937944747)\n",
      "('Women younger than 18 in need of contraceptive services and supplies', 0.0042989273066325754)\n",
      "('Non-Hispanic White', 0.0042853197050184838)\n",
      "('Non-Hispanic Black', 0.004118381620712987)\n",
      "('Women aged 20-44 and between 100-137% federal poverty level in need of contraceptive services and supplies', 0.0040547091045071322)\n",
      "('Women aged 20-29 in need of contraceptive services and supplies', 0.0038023413917514719)\n",
      "('Women aged 30-34 in need of contraceptive services and supplies', 0.0037391992310348786)\n",
      "('Women aged 20-44 and >250% of poverty level in need of contraceptive services and supplies', 0.0037322553400662966)\n",
      "('Non-Hipanic Black, younger than 20', 0.0035368457237731975)\n",
      "('Women aged 18-19 in need of contraceptive services and supplies', 0.0033118680015764694)\n",
      "('Hispanic', 0.0030974660166189468)\n",
      "('Hispanic, younger than 20', 0.0030945215516633351)\n",
      "('Total publicly funded clinics', 0.0029526109792848403)\n",
      "('Number of female contraceptive clients served at federally funded qualified health centers', 0.0028263933951028029)\n",
      "('Total women aged 20-44 in need of contraceptive services and supplies  ', 0.0020075146592348184)\n",
      "('Population of women aged 13-44', 0.001988420467636455)\n",
      "('Number of female contraceptive clients served at other clinics', 0.001842941353010969)\n",
      "('Total Title X-funded clinics', 0.001672200228904215)\n",
      "('Number of federally funded qualified health centers', 0.0015965589615423265)\n",
      "('Number of other clinics', 0.0013005518820459214)\n",
      "('Number of health department clinics', 0.0012837625294367799)\n",
      "('Health department', 0.0010032158783184399)\n",
      "('Other', 0.00091263824042582358)\n",
      "('Planned Parenthood', 0.00064058713874338448)\n",
      "('Number of female contraceptive clients served at hospitals', 0.00043137498743692654)\n",
      "('Number of hospitals', 0.00037730632769300895)\n",
      "('Number of female contraceptive clients served at Planned Parenthood clinics', 0.00037541761429261776)\n",
      "('Number of Planned Parenthood clinics', 7.3433509048968857e-05)\n",
      "('Hospital', 5.5881332883170772e-05)\n"
     ]
    }
   ],
   "source": [
    "max_features = len(feature_list)\n",
    "\n",
    "rf =RandomForestClassifier(n_estimators = 200, max_features = max_features )\n",
    "rf.fit(X_train, y_train)\n",
    "\n",
    "a  = tp_vars.columns.values\n",
    "\n",
    "ftr_imp = list(zip(a, rf.feature_importances_))\n",
    "\n",
    "ftr_imp = sorted(ftr_imp, key=(lambda x: x[1]), reverse = True)\n",
    "\n",
    "print(rf.score(X_test, y_test))\n",
    "for i in ftr_imp:\n",
    "    print(i)"
   ]
  },
  {
   "cell_type": "markdown",
   "metadata": {},
   "source": [
    "### KNN (K-Nearest Neighbors) Model"
   ]
  },
  {
   "cell_type": "code",
   "execution_count": 263,
   "metadata": {
    "collapsed": false
   },
   "outputs": [
    {
     "name": "stdout",
     "output_type": "stream",
     "text": [
      "1 0.670575692964\n",
      "2 0.721748400853\n",
      "3 0.7078891258\n",
      "4 0.722814498934\n",
      "5 0.712153518124\n",
      "6 0.723880597015\n",
      "7 0.726012793177\n",
      "8 0.732409381663\n",
      "9 0.727078891258\n",
      "10 0.732409381663\n",
      "11 0.727078891258\n",
      "12 0.716417910448\n",
      "13 0.722814498934\n",
      "14 0.724946695096\n",
      "15 0.719616204691\n",
      "16 0.721748400853\n",
      "17 0.721748400853\n",
      "18 0.716417910448\n",
      "19 0.717484008529\n",
      "20 0.71855010661\n",
      "21 0.720682302772\n",
      "22 0.717484008529\n",
      "23 0.715351812367\n",
      "24 0.717484008529\n",
      "25 0.717484008529\n",
      "26 0.713219616205\n",
      "27 0.714285714286\n",
      "28 0.706823027719\n",
      "29 0.711087420043\n",
      "30 0.710021321962\n",
      "31 0.713219616205\n",
      "32 0.715351812367\n",
      "33 0.717484008529\n",
      "34 0.715351812367\n",
      "35 0.71855010661\n",
      "36 0.715351812367\n",
      "37 0.717484008529\n",
      "38 0.720682302772\n",
      "39 0.720682302772\n",
      "40 0.721748400853\n",
      "41 0.722814498934\n",
      "42 0.720682302772\n",
      "43 0.721748400853\n",
      "44 0.71855010661\n",
      "45 0.717484008529\n",
      "46 0.716417910448\n",
      "47 0.715351812367\n",
      "48 0.71855010661\n",
      "49 0.716417910448\n",
      "50 0.715351812367\n"
     ]
    }
   ],
   "source": [
    "knn_acc = []\n",
    "rng = [x for x in range(1, 51)]\n",
    "\n",
    "for n in rng:\n",
    "    knn = KNeighborsClassifier(n_neighbors=n)\n",
    "    knn.fit(X_train, y_train)\n",
    "    acc = accuracy_score(y_test, knn.predict(X_test))\n",
    "    knn_acc.append(acc)\n",
    "    print(n, acc)"
   ]
  },
  {
   "cell_type": "markdown",
   "metadata": {},
   "source": [
    "### Logistic Regression Model"
   ]
  },
  {
   "cell_type": "code",
   "execution_count": 266,
   "metadata": {
    "collapsed": false
   },
   "outputs": [
    {
     "name": "stdout",
     "output_type": "stream",
     "text": [
      "Logistic Regression accuracy:  0.762260127932\n",
      "('Chlamydia Rates per 100,000', 0.0030331528860133472)\n",
      "('Women aged 20-44 and between 138-199% federal poverty level in need of contraceptive services and supplies', 0.0023887041300357328)\n",
      "('Women aged 20-44 and between 100-137% federal poverty level in need of contraceptive services and supplies', 0.0010757448392296153)\n",
      "('Women younger than 18 in need of contraceptive services and supplies', 0.00098391449910953149)\n",
      "('Women aged 18-19 in need of contraceptive services and supplies', 0.00071108504185115847)\n",
      "('Total, younger than 20', 0.00066707535387041891)\n",
      "('Uninsured women aged 20-44 and between 138-249% of federal poverty level  in need of publicly funded contraceptive services', 0.00062140436818930987)\n",
      "('Women aged 20-44 and between 200-249% federal poverty level in need of contraceptive services and supplies', 0.00039154141412292651)\n",
      "('Hispanic', 0.0003759890656316058)\n",
      "('Number of female contraceptive clients served at health department clinics', 0.00037279210399383551)\n",
      "('Uninsured women aged 20-44 and <138% of federal poverty level in need of publicly funded contraceptive services', 0.00036072933794918763)\n",
      "('Uninsured women younger than 20 in need of publicly funded contraceptive services', 0.00017851977269653569)\n",
      "('Number of female contraceptive clients served at federally funded qualified health centers', 0.0001699020126454423)\n",
      "('Total % uninsured women in need of publicly funded contraceptive services,', 0.00014296841533541709)\n",
      "('% Children in Poverty', 0.00012585868163423415)\n",
      "('Non-Hispanic Black', 0.00010441434456215372)\n",
      "('% uninsured women younger than 20 in need of publicly funded contraceptive services', 6.7546858496954305e-05)\n",
      "('Total uninsured women in need of publicly funded contraceptive services', 5.8153644294894513e-05)\n",
      "('% uninsured women aged 20-44 and between 138-249% of federal poverty level in need of publicly funded contraceptive services', 4.3151555117293062e-05)\n",
      "('Hispanic, younger than 20', 1.8191960532652585e-05)\n",
      "('Women aged 20-44 and <250% of federal poverty level in need of publicly funded contraceptive services and supplies', 1.4260675867035483e-05)\n",
      "('Population of women aged 13-44', 1.0206777873664075e-05)\n",
      "('Total Title X-funded clinics', 1.8898212988729548e-06)\n",
      "('Total publicly funded clinics', 1.6786316363150889e-06)\n",
      "('Number of health department clinics', 1.5956736451244722e-06)\n",
      "('Health department', 1.0618786081858497e-06)\n",
      "('Hospital', -1.9088475520939905e-07)\n",
      "('Number of federally funded qualified health centers', -2.1610774881204115e-07)\n",
      "('Number of Planned Parenthood clinics', -4.257324344586302e-07)\n",
      "('Planned Parenthood', -6.4189805412031635e-07)\n",
      "('Number of hospitals', -1.2843419895764892e-06)\n",
      "('Other', -1.887818918049959e-06)\n",
      "('Number of other clinics', -3.0967932377758234e-06)\n",
      "('No of Medicare enrollees', -2.2217525981689262e-05)\n",
      "('% Single-Parent Households', -3.0298261324766463e-05)\n",
      "('Total women aged 13-44 in need of publicly funded contraceptive services and supplies', -3.3798255663379496e-05)\n",
      "('% uninsured women aged 20-44 and <138% of federal poverty level in need of publicly funded contraceptive services', -3.5342493398006752e-05)\n",
      "('Liquor Store Rate', -3.913193951622918e-05)\n",
      "('Women aged 20-44 and <100% federal poverty level in need of contraceptive services and supplies', -5.9961034858776921e-05)\n",
      "('% unemployed', -6.383199657021988e-05)\n",
      "('Number of female contraceptive clients served at other clinics', -8.1469693292989562e-05)\n",
      "('Total women aged 13-44 in need of contraceptive services and supplies', -8.6271891573127488e-05)\n",
      "('Non-Hispanic White', -9.9039010119984317e-05)\n",
      "('Total', -0.00011154961081950871)\n",
      "('Total women aged 20-44 in need of contraceptive services and supplies  ', -0.00011299396119197139)\n",
      "('Number of female contraceptive clients served at Planned Parenthood clinics', -0.00012772460310038944)\n",
      "('Women aged 20-44 and >250% of poverty level in need of contraceptive services and supplies', -0.0001785350874091958)\n",
      "('Women aged 20-29 in need of contraceptive services and supplies', -0.00018356274496525958)\n",
      "('Number of female contraceptive clients served at hospitals', -0.00020967856417540025)\n",
      "('% Smokers', -0.00023261881884055702)\n",
      "('Women younger than 20 in need of publicly funded contraceptive services and supplies', -0.00033225636160425285)\n",
      "('Non-Hipanic Black, younger than 20', -0.0003813115558309157)\n",
      "('Women aged 30-34 in need of contraceptive services and supplies', -0.00039913096347429241)\n",
      "('% Binge Drinking', -0.00043932474563387869)\n",
      "('% Obese', -0.0004397660314184082)\n",
      "('Congregations Per 10K People', -0.00058639124087326525)\n",
      "('% College', -0.00061611738632863749)\n",
      "('GINI', -0.00069042989137151468)\n",
      "('RAND_2', -0.00074855869906737243)\n",
      "('RAND_3', -0.00079421077322314626)\n",
      "('RAND_1', -0.0008385081665165053)\n",
      "('Adherents %', -0.00084105244724276291)\n",
      "('RAND_4', -0.00085906214123773208)\n",
      "('RAND_5', -0.00086822547218024123)\n",
      "('Violent Crime Rate', -0.00094673409740112413)\n",
      "('Non-Hispanic White,  younger than 20', -0.0011105930299571572)\n",
      "('Primary Care Physician Rate', -0.0019929211025937546)\n",
      "('Avg Freshman Graduation Rate', -0.0020193436399735818)\n"
     ]
    }
   ],
   "source": [
    "log_reg = LogisticRegression()\n",
    "log_reg.fit(X_train,y_train)\n",
    "acc_lr = accuracy_score(y_test, log_reg.predict(X_test))\n",
    "\n",
    "a  = tp_vars.columns.values\n",
    "lr_coef = list(zip(a, log_reg.coef_[0]))\n",
    "lr_coef = sorted(lr_coef, key=(lambda x: x[1]), reverse = True)\n",
    "\n",
    "print('Logistic Regression accuracy: ', acc_lr)\n",
    "for i in lr_coef:\n",
    "    print(i)"
   ]
  },
  {
   "cell_type": "code",
   "execution_count": 268,
   "metadata": {
    "collapsed": true
   },
   "outputs": [],
   "source": [
    "### Quick and dirty model assessment, looking at the performance of six model types\n",
    "\n",
    "models = {}\n",
    "\n",
    "models['KNN'] = KNeighborsClassifier(n_neighbors=20)\n",
    "models['LogReg'] = LogisticRegression()\n",
    "models['GNB'] = GaussianNB()\n",
    "models['DecTree'] = DecisionTreeClassifier()\n",
    "models['RandForest'] = RandomForestClassifier(n_estimators = 100)\n",
    "models['Gradient Trees'] = GradientBoostingClassifier()\n",
    "\n",
    "\n",
    "score_list = ['accuracy', 'precision', 'recall', 'f1']"
   ]
  },
  {
   "cell_type": "code",
   "execution_count": 269,
   "metadata": {
    "collapsed": false
   },
   "outputs": [
    {
     "name": "stdout",
     "output_type": "stream",
     "text": [
      "GNB :\n",
      "accuracy 0.438295517859\n",
      "precision 0.361290094453\n",
      "recall 0.944355317885\n",
      "f1 0.518383009999\n",
      "\n",
      "DecTree :\n",
      "accuracy 0.759121264388\n",
      "precision 0.65195769679\n",
      "recall 0.632679738562\n",
      "f1 0.628673007697\n",
      "\n",
      "RandForest :\n",
      "accuracy 0.842562205863\n",
      "precision 0.819259300857\n",
      "recall 0.70101010101\n",
      "f1 0.735541106604\n",
      "\n",
      "Gradient Trees :\n",
      "accuracy 0.84612788506\n",
      "precision 0.806637690003\n",
      "recall 0.737165775401\n",
      "f1 0.752301223494\n",
      "\n",
      "LogReg :\n",
      "accuracy 0.761035361618\n",
      "precision 0.728071154206\n",
      "recall 0.426470588235\n",
      "f1 0.508933464236\n",
      "\n",
      "KNN :\n",
      "accuracy 0.720381533246\n",
      "precision 0.691368707832\n",
      "recall 0.220617944147\n",
      "f1 0.319693860839\n",
      "\n"
     ]
    }
   ],
   "source": [
    "for name, model in models.items():\n",
    "    print(name, ':')\n",
    "    for m in score_list:\n",
    "        scores = cv_score_means(model, tp_vars, tp_tgt, m)\n",
    "        print(m, scores.mean())\n",
    "    print('')"
   ]
  },
  {
   "cell_type": "markdown",
   "metadata": {},
   "source": [
    "## ROC Curves\n",
    "Code for calculating and plotting ROC curves for models"
   ]
  },
  {
   "cell_type": "code",
   "execution_count": null,
   "metadata": {
    "collapsed": true
   },
   "outputs": [],
   "source": [
    "KNN = KNeighborsClassifier(n_neighbors=23).fit(X_train, y_train)\n",
    "GNB = GaussianNB().fit(X_train, y_train)\n",
    "SVM = SVC(probability = True).fit(X_train, y_train)\n",
    "RandForest = RandomForestClassifier(n_estimators = 15).fit(X_train, y_train)\n",
    "DecTree = DecisionTreeClassifier().fit(X_train, y_train)\n",
    "LogReg = LogisticRegression().fit(X_train, y_train)\n",
    "\n",
    "KNN_pred = KNN.predict_proba(X_test)\n",
    "GNB_pred = GNB.predict_proba(X_test)\n",
    "SVM_pred = SVM.predict_proba(X_test)\n",
    "RandForest_pred = RandForest.predict_proba(X_test)\n",
    "DecTree_pred = DecTree.predict_proba(X_test)\n",
    "LogReg_pred = LogReg.predict_proba(X_test)"
   ]
  },
  {
   "cell_type": "code",
   "execution_count": null,
   "metadata": {
    "collapsed": false
   },
   "outputs": [],
   "source": [
    "fpr_knn, tpr_knn, thresholds_knn = roc_curve(y_test, KNN_pred[:,1])\n",
    "fpr_gnb, tpr_gnb, thresholds_gmb = roc_curve(y_test, GNB_pred[:,1])\n",
    "fpr_svm, tpr_svm, thresholds_svm = roc_curve(y_test, SVM_pred[:,1])\n",
    "fpr_randforest, tpr_randforest, thresholds_randforest = roc_curve(y_test, RandForest_pred[:,1])\n",
    "fpr_dectree, tpr_dectree, thresholds_dectree = roc_curve(y_test, DecTree_pred[:,1])\n",
    "fpr_logreg, tpr_logreg, thresholds_logreg = roc_curve(y_test, LogReg_pred[:,1])"
   ]
  },
  {
   "cell_type": "code",
   "execution_count": null,
   "metadata": {
    "collapsed": false
   },
   "outputs": [],
   "source": [
    "# row and column sharing\n",
    "f, ((ax1, ax2), (ax3, ax4), (ax5, ax6)) = plt.subplots(3, 2, sharex='col')\n",
    "f.set_size_inches(18, 12)\n",
    "ax1.plot(fpr_knn, tpr_knn);\n",
    "ax1.plot(fpr_knn, fpr_knn, 'r--');\n",
    "ax1.set_title('KNN');\n",
    "ax2.plot(fpr_gnb, tpr_gnb);\n",
    "ax2.plot(fpr_gnb, fpr_gnb, 'r--');\n",
    "ax2.set_title('GNB');\n",
    "ax3.plot(fpr_randforest, tpr_randforest);\n",
    "ax3.plot(fpr_randforest, fpr_randforest, 'r--');\n",
    "ax3.set_title('Random Forest');\n",
    "ax4.plot(fpr_dectree, tpr_dectree);\n",
    "ax4.plot(fpr_dectree, fpr_dectree, 'r--');\n",
    "ax4.set_title('Decision Tree');\n",
    "ax5.plot(fpr_logreg, tpr_logreg);\n",
    "ax5.plot(fpr_logreg, fpr_logreg, 'r--');\n",
    "ax5.set_title('Logistic Regression');\n",
    "ax6.plot(fpr_svm, tpr_svm);\n",
    "ax6.plot(fpr_svm, fpr_svm, 'r--');\n",
    "ax6.set_title('SVM');"
   ]
  }
 ],
 "metadata": {
  "anaconda-cloud": {},
  "kernelspec": {
   "display_name": "Python [Root]",
   "language": "python",
   "name": "Python [Root]"
  },
  "language_info": {
   "codemirror_mode": {
    "name": "ipython",
    "version": 3
   },
   "file_extension": ".py",
   "mimetype": "text/x-python",
   "name": "python",
   "nbconvert_exporter": "python",
   "pygments_lexer": "ipython3",
   "version": "3.5.2"
  }
 },
 "nbformat": 4,
 "nbformat_minor": 0
}

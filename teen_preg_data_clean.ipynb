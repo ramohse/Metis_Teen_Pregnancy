{
 "cells": [
  {
   "cell_type": "markdown",
   "metadata": {},
   "source": [
    "Code used to clean the data. Uploaded mainly for the d3 color mapping code 2/3 of the way down, which makes it easier to dynamically change color schemes within a d3 visualization"
   ]
  },
  {
   "cell_type": "code",
   "execution_count": 293,
   "metadata": {
    "collapsed": true
   },
   "outputs": [],
   "source": [
    "import pandas as pd\n",
    "import numpy as np\n",
    "import matplotlib.pyplot as plt\n",
    "import seaborn as sns\n",
    "\n",
    "%matplotlib inline"
   ]
  },
  {
   "cell_type": "code",
   "execution_count": 294,
   "metadata": {
    "collapsed": false
   },
   "outputs": [
    {
     "data": {
      "text/html": [
       "\n",
       "<style>\n",
       "    div#notebook-container    { width: 95%; }\n",
       "    div#menubar-container     { width: 65%; }\n",
       "    div#maintoolbar-container { width: 99%; }\n",
       "</style>\n"
      ],
      "text/plain": [
       "<IPython.core.display.HTML object>"
      ]
     },
     "metadata": {},
     "output_type": "display_data"
    }
   ],
   "source": [
    "from IPython.display import display, HTML\n",
    "\n",
    "display(HTML(data=\"\"\"\n",
    "<style>\n",
    "    div#notebook-container    { width: 95%; }\n",
    "    div#menubar-container     { width: 65%; }\n",
    "    div#maintoolbar-container { width: 99%; }\n",
    "</style>\n",
    "\"\"\"))"
   ]
  },
  {
   "cell_type": "code",
   "execution_count": 295,
   "metadata": {
    "collapsed": false
   },
   "outputs": [],
   "source": [
    "df_main = pd.read_csv('county_health.csv')"
   ]
  },
  {
   "cell_type": "code",
   "execution_count": 296,
   "metadata": {
    "collapsed": true
   },
   "outputs": [],
   "source": [
    "### Adds county key for future merges\n",
    "\n",
    "df_county_key = pd.read_csv('county_key.csv')\n",
    "df_main = pd.merge(df_main, df_county_key, on='Locale County FIPS Code')"
   ]
  },
  {
   "cell_type": "code",
   "execution_count": 297,
   "metadata": {
    "collapsed": true
   },
   "outputs": [],
   "source": [
    "### Adds religious survey data\n",
    "\n",
    "df_religion = pd.read_csv('religion_counties_2010.csv')\n",
    "df_main = pd.merge(df_main, df_religion, on='County or Equivalent')"
   ]
  },
  {
   "cell_type": "code",
   "execution_count": 298,
   "metadata": {
    "collapsed": false
   },
   "outputs": [],
   "source": [
    "### Adds guttmacher data\n",
    "\n",
    "df_county_key = pd.read_csv('gutt_clean.csv')\n",
    "df_main = pd.merge(df_main, df_county_key, on='Locale County FIPS Code')"
   ]
  },
  {
   "cell_type": "code",
   "execution_count": null,
   "metadata": {
    "collapsed": false
   },
   "outputs": [],
   "source": [
    "### Adds 2008 presidential voting data\n",
    "\n",
    "df_party_key = pd.read_csv('political_party.csv')\n",
    "df_main = pd.merge(df_main, df_party_key, on='Locale County FIPS Code')"
   ]
  },
  {
   "cell_type": "code",
   "execution_count": 299,
   "metadata": {
    "collapsed": true
   },
   "outputs": [],
   "source": [
    "drop_list = ['County or Equivalent', 'State_y', 'County_y', 'Population', 'PopRank',\n",
    "       'Adherents', 'AdhRank', 'Adh% Rank','Congregations', 'ConRank', 'Con Per 10K Rank']"
   ]
  },
  {
   "cell_type": "code",
   "execution_count": null,
   "metadata": {
    "collapsed": true
   },
   "outputs": [],
   "source": [
    "df_main = df_main.drop(drop_list, axis=1)"
   ]
  },
  {
   "cell_type": "code",
   "execution_count": 300,
   "metadata": {
    "collapsed": true
   },
   "outputs": [],
   "source": [
    "### Adds the binary classifier for elevated teen pregnancy, defined as 1/2 one standard deviation from the mean\n",
    "df_main['High Risk'] = df_main['Teen Pregnancy'].map(lambda x: 1 if x > 56 else 0)"
   ]
  },
  {
   "cell_type": "code",
   "execution_count": 301,
   "metadata": {
    "collapsed": true
   },
   "outputs": [],
   "source": [
    "### Adds the binary classifier for elevated chlamydia rates, defined as 1/2 one standard deviation from the mean\n",
    "df_main['Elevated Chlamydia'] = df_main['Chlamydia Rates per 100,000'].map(lambda x: 1 if x > 375 else 0)"
   ]
  },
  {
   "cell_type": "code",
   "execution_count": 302,
   "metadata": {
    "collapsed": true
   },
   "outputs": [],
   "source": [
    "### Adds the binary classifier for elevated child poverty rates, defined as 1/2 one standard deviation from the mean\n",
    "df_main['Elevated Poverty'] = df_main['% Children in Poverty'].map(lambda x: 1 if x > 25 else 0)"
   ]
  },
  {
   "cell_type": "code",
   "execution_count": 303,
   "metadata": {
    "collapsed": true
   },
   "outputs": [],
   "source": [
    "### Adds the binary classifier for lower high school graduation rates, defined as 1/2 one standard deviation below the mean\n",
    "df_main['Elevated Religiosity'] = df_main['Adherents %'].map(lambda x: 1 if x > 70 else 0)"
   ]
  },
  {
   "cell_type": "code",
   "execution_count": 304,
   "metadata": {
    "collapsed": true
   },
   "outputs": [],
   "source": [
    "### Adds the binary classifier for lower high school graduation rates, defined as 1/2 one standard deviation below the mean\n",
    "df_main['Elevated Uninsured'] = df_main['Total % uninsured women in need of publicly funded contraceptive services,'].map(lambda x: 1 if x > 21 else 0)"
   ]
  },
  {
   "cell_type": "code",
   "execution_count": 364,
   "metadata": {
    "collapsed": true
   },
   "outputs": [],
   "source": [
    "df_main['Feature Risk Factor'] = df_main['Elevated Chlamydia'] + df_main['Elevated Poverty'] + df_main['Elevated Religiosity'] + df_main['Elevated Uninsured']"
   ]
  },
  {
   "cell_type": "code",
   "execution_count": 365,
   "metadata": {
    "collapsed": false
   },
   "outputs": [
    {
     "data": {
      "text/html": [
       "<div>\n",
       "<table border=\"1\" class=\"dataframe\">\n",
       "  <thead>\n",
       "    <tr style=\"text-align: right;\">\n",
       "      <th></th>\n",
       "      <th>Locale County FIPS Code</th>\n",
       "      <th>State_x</th>\n",
       "      <th>County_x</th>\n",
       "      <th>Teen Pregnancy</th>\n",
       "      <th>% Smokers</th>\n",
       "      <th>% Obese</th>\n",
       "      <th>% Binge Drinking</th>\n",
       "      <th>Chlamydia Rates per 100,000</th>\n",
       "      <th>Primary Care Physician Rate</th>\n",
       "      <th>No of Medicare enrollees</th>\n",
       "      <th>...</th>\n",
       "      <th>Women aged 20-44 and &gt;250% of poverty level in need of contraceptive services and supplies</th>\n",
       "      <th>Women aged 20-44 and between 100-137% federal poverty level in need of contraceptive services and supplies</th>\n",
       "      <th>Women aged 20-44 and between 138-199% federal poverty level in need of contraceptive services and supplies</th>\n",
       "      <th>Women aged 20-44 and between 200-249% federal poverty level in need of contraceptive services and supplies</th>\n",
       "      <th>High Risk</th>\n",
       "      <th>Elevated Chlamydia</th>\n",
       "      <th>Elevated Poverty</th>\n",
       "      <th>Elevated Religiosity</th>\n",
       "      <th>Elevated Uninsured</th>\n",
       "      <th>Feature Risk Factor</th>\n",
       "    </tr>\n",
       "  </thead>\n",
       "  <tbody>\n",
       "    <tr>\n",
       "      <th>0</th>\n",
       "      <td>1001</td>\n",
       "      <td>Alabama</td>\n",
       "      <td>Autauga</td>\n",
       "      <td>53.0</td>\n",
       "      <td>28.0</td>\n",
       "      <td>30</td>\n",
       "      <td>14.0</td>\n",
       "      <td>370.0</td>\n",
       "      <td>74</td>\n",
       "      <td>9407.0</td>\n",
       "      <td>...</td>\n",
       "      <td>3420</td>\n",
       "      <td>0</td>\n",
       "      <td>550</td>\n",
       "      <td>0</td>\n",
       "      <td>0</td>\n",
       "      <td>0</td>\n",
       "      <td>0</td>\n",
       "      <td>0</td>\n",
       "      <td>0</td>\n",
       "      <td>0</td>\n",
       "    </tr>\n",
       "    <tr>\n",
       "      <th>1</th>\n",
       "      <td>1003</td>\n",
       "      <td>Alabama</td>\n",
       "      <td>Baldwin</td>\n",
       "      <td>49.0</td>\n",
       "      <td>23.0</td>\n",
       "      <td>25</td>\n",
       "      <td>18.0</td>\n",
       "      <td>246.0</td>\n",
       "      <td>103</td>\n",
       "      <td>43980.0</td>\n",
       "      <td>...</td>\n",
       "      <td>7300</td>\n",
       "      <td>0</td>\n",
       "      <td>2060</td>\n",
       "      <td>0</td>\n",
       "      <td>0</td>\n",
       "      <td>0</td>\n",
       "      <td>0</td>\n",
       "      <td>0</td>\n",
       "      <td>0</td>\n",
       "      <td>0</td>\n",
       "    </tr>\n",
       "    <tr>\n",
       "      <th>2</th>\n",
       "      <td>1005</td>\n",
       "      <td>Alabama</td>\n",
       "      <td>Barbour</td>\n",
       "      <td>75.0</td>\n",
       "      <td>23.0</td>\n",
       "      <td>36</td>\n",
       "      <td>10.0</td>\n",
       "      <td>586.0</td>\n",
       "      <td>50</td>\n",
       "      <td>6546.0</td>\n",
       "      <td>...</td>\n",
       "      <td>700</td>\n",
       "      <td>160</td>\n",
       "      <td>380</td>\n",
       "      <td>130</td>\n",
       "      <td>1</td>\n",
       "      <td>1</td>\n",
       "      <td>1</td>\n",
       "      <td>0</td>\n",
       "      <td>0</td>\n",
       "      <td>2</td>\n",
       "    </tr>\n",
       "    <tr>\n",
       "      <th>3</th>\n",
       "      <td>1007</td>\n",
       "      <td>Alabama</td>\n",
       "      <td>Bibb</td>\n",
       "      <td>68.0</td>\n",
       "      <td>NaN</td>\n",
       "      <td>32</td>\n",
       "      <td>10.0</td>\n",
       "      <td>284.0</td>\n",
       "      <td>61</td>\n",
       "      <td>4033.0</td>\n",
       "      <td>...</td>\n",
       "      <td>960</td>\n",
       "      <td>250</td>\n",
       "      <td>310</td>\n",
       "      <td>160</td>\n",
       "      <td>1</td>\n",
       "      <td>0</td>\n",
       "      <td>0</td>\n",
       "      <td>0</td>\n",
       "      <td>0</td>\n",
       "      <td>0</td>\n",
       "    </tr>\n",
       "    <tr>\n",
       "      <th>4</th>\n",
       "      <td>1009</td>\n",
       "      <td>Alabama</td>\n",
       "      <td>Blount</td>\n",
       "      <td>57.0</td>\n",
       "      <td>23.0</td>\n",
       "      <td>32</td>\n",
       "      <td>6.0</td>\n",
       "      <td>85.0</td>\n",
       "      <td>35</td>\n",
       "      <td>8110.0</td>\n",
       "      <td>...</td>\n",
       "      <td>0</td>\n",
       "      <td>490</td>\n",
       "      <td>550</td>\n",
       "      <td>440</td>\n",
       "      <td>1</td>\n",
       "      <td>0</td>\n",
       "      <td>0</td>\n",
       "      <td>0</td>\n",
       "      <td>0</td>\n",
       "      <td>0</td>\n",
       "    </tr>\n",
       "    <tr>\n",
       "      <th>5</th>\n",
       "      <td>1011</td>\n",
       "      <td>Alabama</td>\n",
       "      <td>Bullock</td>\n",
       "      <td>85.0</td>\n",
       "      <td>NaN</td>\n",
       "      <td>37</td>\n",
       "      <td>5.0</td>\n",
       "      <td>724.0</td>\n",
       "      <td>83</td>\n",
       "      <td>1837.0</td>\n",
       "      <td>...</td>\n",
       "      <td>230</td>\n",
       "      <td>0</td>\n",
       "      <td>140</td>\n",
       "      <td>50</td>\n",
       "      <td>1</td>\n",
       "      <td>1</td>\n",
       "      <td>1</td>\n",
       "      <td>0</td>\n",
       "      <td>1</td>\n",
       "      <td>3</td>\n",
       "    </tr>\n",
       "    <tr>\n",
       "      <th>6</th>\n",
       "      <td>1013</td>\n",
       "      <td>Alabama</td>\n",
       "      <td>Butler</td>\n",
       "      <td>66.0</td>\n",
       "      <td>28.0</td>\n",
       "      <td>36</td>\n",
       "      <td>9.0</td>\n",
       "      <td>634.0</td>\n",
       "      <td>54</td>\n",
       "      <td>6433.0</td>\n",
       "      <td>...</td>\n",
       "      <td>0</td>\n",
       "      <td>0</td>\n",
       "      <td>0</td>\n",
       "      <td>110</td>\n",
       "      <td>1</td>\n",
       "      <td>1</td>\n",
       "      <td>1</td>\n",
       "      <td>0</td>\n",
       "      <td>0</td>\n",
       "      <td>2</td>\n",
       "    </tr>\n",
       "    <tr>\n",
       "      <th>7</th>\n",
       "      <td>1015</td>\n",
       "      <td>Alabama</td>\n",
       "      <td>Calhoun</td>\n",
       "      <td>60.0</td>\n",
       "      <td>27.0</td>\n",
       "      <td>33</td>\n",
       "      <td>12.0</td>\n",
       "      <td>535.0</td>\n",
       "      <td>110</td>\n",
       "      <td>31000.0</td>\n",
       "      <td>...</td>\n",
       "      <td>0</td>\n",
       "      <td>0</td>\n",
       "      <td>0</td>\n",
       "      <td>0</td>\n",
       "      <td>1</td>\n",
       "      <td>1</td>\n",
       "      <td>0</td>\n",
       "      <td>1</td>\n",
       "      <td>0</td>\n",
       "      <td>2</td>\n",
       "    </tr>\n",
       "    <tr>\n",
       "      <th>8</th>\n",
       "      <td>1017</td>\n",
       "      <td>Alabama</td>\n",
       "      <td>Chambers</td>\n",
       "      <td>71.0</td>\n",
       "      <td>17.0</td>\n",
       "      <td>36</td>\n",
       "      <td>10.0</td>\n",
       "      <td>634.0</td>\n",
       "      <td>71</td>\n",
       "      <td>11440.0</td>\n",
       "      <td>...</td>\n",
       "      <td>0</td>\n",
       "      <td>250</td>\n",
       "      <td>0</td>\n",
       "      <td>290</td>\n",
       "      <td>1</td>\n",
       "      <td>1</td>\n",
       "      <td>0</td>\n",
       "      <td>0</td>\n",
       "      <td>1</td>\n",
       "      <td>2</td>\n",
       "    </tr>\n",
       "    <tr>\n",
       "      <th>9</th>\n",
       "      <td>1019</td>\n",
       "      <td>Alabama</td>\n",
       "      <td>Cherokee</td>\n",
       "      <td>72.0</td>\n",
       "      <td>27.0</td>\n",
       "      <td>31</td>\n",
       "      <td>15.0</td>\n",
       "      <td>153.0</td>\n",
       "      <td>44</td>\n",
       "      <td>6404.0</td>\n",
       "      <td>...</td>\n",
       "      <td>0</td>\n",
       "      <td>190</td>\n",
       "      <td>0</td>\n",
       "      <td>160</td>\n",
       "      <td>1</td>\n",
       "      <td>0</td>\n",
       "      <td>1</td>\n",
       "      <td>0</td>\n",
       "      <td>1</td>\n",
       "      <td>2</td>\n",
       "    </tr>\n",
       "  </tbody>\n",
       "</table>\n",
       "<p>10 rows × 85 columns</p>\n",
       "</div>"
      ],
      "text/plain": [
       "   Locale County FIPS Code  State_x  County_x  Teen Pregnancy  % Smokers  \\\n",
       "0                     1001  Alabama   Autauga            53.0       28.0   \n",
       "1                     1003  Alabama   Baldwin            49.0       23.0   \n",
       "2                     1005  Alabama   Barbour            75.0       23.0   \n",
       "3                     1007  Alabama      Bibb            68.0        NaN   \n",
       "4                     1009  Alabama    Blount            57.0       23.0   \n",
       "5                     1011  Alabama   Bullock            85.0        NaN   \n",
       "6                     1013  Alabama    Butler            66.0       28.0   \n",
       "7                     1015  Alabama   Calhoun            60.0       27.0   \n",
       "8                     1017  Alabama  Chambers            71.0       17.0   \n",
       "9                     1019  Alabama  Cherokee            72.0       27.0   \n",
       "\n",
       "   % Obese  % Binge Drinking  Chlamydia Rates per 100,000  \\\n",
       "0       30              14.0                        370.0   \n",
       "1       25              18.0                        246.0   \n",
       "2       36              10.0                        586.0   \n",
       "3       32              10.0                        284.0   \n",
       "4       32               6.0                         85.0   \n",
       "5       37               5.0                        724.0   \n",
       "6       36               9.0                        634.0   \n",
       "7       33              12.0                        535.0   \n",
       "8       36              10.0                        634.0   \n",
       "9       31              15.0                        153.0   \n",
       "\n",
       "   Primary Care Physician Rate  No of Medicare enrollees         ...          \\\n",
       "0                           74                    9407.0         ...           \n",
       "1                          103                   43980.0         ...           \n",
       "2                           50                    6546.0         ...           \n",
       "3                           61                    4033.0         ...           \n",
       "4                           35                    8110.0         ...           \n",
       "5                           83                    1837.0         ...           \n",
       "6                           54                    6433.0         ...           \n",
       "7                          110                   31000.0         ...           \n",
       "8                           71                   11440.0         ...           \n",
       "9                           44                    6404.0         ...           \n",
       "\n",
       "   Women aged 20-44 and >250% of poverty level in need of contraceptive services and supplies  \\\n",
       "0                                               3420                                            \n",
       "1                                               7300                                            \n",
       "2                                                700                                            \n",
       "3                                                960                                            \n",
       "4                                                  0                                            \n",
       "5                                                230                                            \n",
       "6                                                  0                                            \n",
       "7                                                  0                                            \n",
       "8                                                  0                                            \n",
       "9                                                  0                                            \n",
       "\n",
       "   Women aged 20-44 and between 100-137% federal poverty level in need of contraceptive services and supplies  \\\n",
       "0                                                  0                                                            \n",
       "1                                                  0                                                            \n",
       "2                                                160                                                            \n",
       "3                                                250                                                            \n",
       "4                                                490                                                            \n",
       "5                                                  0                                                            \n",
       "6                                                  0                                                            \n",
       "7                                                  0                                                            \n",
       "8                                                250                                                            \n",
       "9                                                190                                                            \n",
       "\n",
       "   Women aged 20-44 and between 138-199% federal poverty level in need of contraceptive services and supplies  \\\n",
       "0                                                550                                                            \n",
       "1                                               2060                                                            \n",
       "2                                                380                                                            \n",
       "3                                                310                                                            \n",
       "4                                                550                                                            \n",
       "5                                                140                                                            \n",
       "6                                                  0                                                            \n",
       "7                                                  0                                                            \n",
       "8                                                  0                                                            \n",
       "9                                                  0                                                            \n",
       "\n",
       "   Women aged 20-44 and between 200-249% federal poverty level in need of contraceptive services and supplies  \\\n",
       "0                                                  0                                                            \n",
       "1                                                  0                                                            \n",
       "2                                                130                                                            \n",
       "3                                                160                                                            \n",
       "4                                                440                                                            \n",
       "5                                                 50                                                            \n",
       "6                                                110                                                            \n",
       "7                                                  0                                                            \n",
       "8                                                290                                                            \n",
       "9                                                160                                                            \n",
       "\n",
       "   High Risk  Elevated Chlamydia  Elevated Poverty  Elevated Religiosity  \\\n",
       "0          0                   0                 0                     0   \n",
       "1          0                   0                 0                     0   \n",
       "2          1                   1                 1                     0   \n",
       "3          1                   0                 0                     0   \n",
       "4          1                   0                 0                     0   \n",
       "5          1                   1                 1                     0   \n",
       "6          1                   1                 1                     0   \n",
       "7          1                   1                 0                     1   \n",
       "8          1                   1                 0                     0   \n",
       "9          1                   0                 1                     0   \n",
       "\n",
       "  Elevated Uninsured Feature Risk Factor  \n",
       "0                  0                   0  \n",
       "1                  0                   0  \n",
       "2                  0                   2  \n",
       "3                  0                   0  \n",
       "4                  0                   0  \n",
       "5                  1                   3  \n",
       "6                  0                   2  \n",
       "7                  0                   2  \n",
       "8                  1                   2  \n",
       "9                  1                   2  \n",
       "\n",
       "[10 rows x 85 columns]"
      ]
     },
     "execution_count": 365,
     "metadata": {},
     "output_type": "execute_result"
    }
   ],
   "source": [
    "df_main.head(10)"
   ]
  },
  {
   "cell_type": "code",
   "execution_count": 366,
   "metadata": {
    "collapsed": true
   },
   "outputs": [],
   "source": [
    "df_main.to_csv('mcnulty.csv')"
   ]
  },
  {
   "cell_type": "markdown",
   "metadata": {},
   "source": [
    "### Code to map RGB codes by nonile for d3 visualization"
   ]
  },
  {
   "cell_type": "markdown",
   "metadata": {},
   "source": [
    "Rather than tie the visualization to actual data, this creates a .csv file that maps a color to each value. This makes it easier to change color gradients (red scheme, purple scheme) in the d3 code, because rather than creating a new chart each time we want to change color schemes we are just feeding in RGB codes to an existing chart and changing colors, not data/charts."
   ]
  },
  {
   "cell_type": "code",
   "execution_count": 358,
   "metadata": {
    "collapsed": true
   },
   "outputs": [],
   "source": [
    "teen_preg_list = [\"rgb(247,251,255)\", \"rgb(222,235,247)\", \"rgb(198,219,239)\", \"rgb(158,202,225)\", \"rgb(107,174,214)\", \"rgb(66,146,198)\", \"rgb(33,113,181)\", \"rgb(8,81,156)\", \"rgb(8,48,107)\"]\n",
    "chlamydia_list = [\"rgb(200,229,109)\", \"rgb(189,224,80)\", \"rgb(179,219,51)\", \"rgb(161,200,36)\", \"rgb(138,171,31)\", \"rgb(114,142,25)\", \"rgb(91,114,20)\", \"rgb(68,85,15)\", \"rgb(45,56,10)\"]\n",
    "uninsured_list = [\"rgb(237,187,153)\", \"rgb(232,168,124)\", \"rgb(227,149,95)\", \"rgb(222,130,66)\", \"rgb(216,111,38)\", \"rgb(187,96,33)\", \"rgb(158,81,28)\", \"rgb(129,66,23)\", \"rgb(100,51,18)\"]\n",
    "poverty_list = [\"rgb(200,252,255)\", \"rgb(132,247,255)\", \"rgb(13,240,255)\", \"rgb(0,219,234)\", \"rgb(0,188,200)\", \"rgb(0,156,166)\", \"rgb(0,124,132)\", \"rgb(0,92,98)\", \"rgb(0,60,64)\"]\n",
    "adherents_list = [\"rgb(190,109,229)\", \"rgb(177,80,224)\", \"rgb(164,51,219)\", \"rgb(147,36,200)\", \"rgb(125,31,171)\", \"rgb(104,25,142)\", \"rgb(83,20,114)\", \"rgb(62,15,85)\", \"rgb(41,10,56)\"]\n",
    "max_risk_list = [\"rgb(220,220,220)\", \"rgb(220,220,220)\", \"rgb(220,220,220)\", \"rgb(220,220,220)\", \"rgb(220,220,220)\", \"rgb(220,220,220)\", \"rgb(220,220,220)\", \"rgb(220,220,220)\", \"rgb(120,32,21)\"]"
   ]
  },
  {
   "cell_type": "code",
   "execution_count": 367,
   "metadata": {
    "collapsed": true
   },
   "outputs": [],
   "source": [
    "df_colors = pd.read_csv('map.csv')"
   ]
  },
  {
   "cell_type": "code",
   "execution_count": 368,
   "metadata": {
    "collapsed": true
   },
   "outputs": [],
   "source": [
    "df_colors['preg_rate'] = df_colors['preg_rate'].replace(np.nan, df_colors['preg_rate'].median())"
   ]
  },
  {
   "cell_type": "code",
   "execution_count": 359,
   "metadata": {
    "collapsed": false
   },
   "outputs": [],
   "source": [
    "df_colors['preg_rate_color'] = df_colors['preg_rate_index'].map(lambda x: teen_preg_list[x])"
   ]
  },
  {
   "cell_type": "code",
   "execution_count": 361,
   "metadata": {
    "collapsed": true
   },
   "outputs": [],
   "source": [
    "df_colors['chlamydia_rate_color'] = df_colors['chlamydia_rate_index'].map(lambda x: chlamydia_list[x])\n",
    "df_colors['women_uninsured_rate_color'] = df_colors['women_uninsured_rate_index'].map(lambda x: uninsured_list[x])\n",
    "df_colors['child_poverty_rate_color'] = df_colors['child_poverty_rate_index'].map(lambda x: poverty_list[x])\n",
    "df_colors['adherents_rate_color'] = df_colors['adherents_rate_index'].map(lambda x: adherents_list[x])\n",
    "df_colors['feature_rate_color'] = df_colors['risk_rate_index'].map(lambda x: max_risk_list[x])"
   ]
  },
  {
   "cell_type": "code",
   "execution_count": 369,
   "metadata": {
    "collapsed": false
   },
   "outputs": [],
   "source": [
    "col_list = ['preg_rate', 'chlamydia_rate', 'child_poverty_rate',\n",
    "       'adherents_rate', 'women_uninsured_rate', 'feature_risk_rate']\n",
    "\n",
    "ind_list = ['preg_rate_index',\n",
    "       'chlamydia_rate_index', 'child_poverty_rate_index',\n",
    "       'adherents_rate_index', 'women_uninsured_rate_index', 'feature_risk_rate_index']"
   ]
  },
  {
   "cell_type": "code",
   "execution_count": 370,
   "metadata": {
    "collapsed": true
   },
   "outputs": [],
   "source": [
    "def pct_rank_qcut(series, n):\n",
    "    edges = pd.Series([float(i) / n for i in range(n + 1)])\n",
    "    f = lambda x: (edges >= x).argmax()\n",
    "    return series.rank(pct=1).apply(f)"
   ]
  },
  {
   "cell_type": "code",
   "execution_count": 371,
   "metadata": {
    "collapsed": false
   },
   "outputs": [],
   "source": [
    "for i in col_list:\n",
    "    col_name = str(i) + '_index'\n",
    "    df_colors[col_name] = pct_rank_qcut(df_colors[i], 9)"
   ]
  },
  {
   "cell_type": "code",
   "execution_count": 348,
   "metadata": {
    "collapsed": true
   },
   "outputs": [],
   "source": [
    "for j in ind_list:\n",
    "    df_colors[j] = df_colors[j].map(lambda x: x - 1)"
   ]
  },
  {
   "cell_type": "code",
   "execution_count": null,
   "metadata": {
    "collapsed": true
   },
   "outputs": [],
   "source": [
    "df_colors.to_csv('map_colors.csv')"
   ]
  }
 ],
 "metadata": {
  "anaconda-cloud": {},
  "kernelspec": {
   "display_name": "Python [Root]",
   "language": "python",
   "name": "Python [Root]"
  },
  "language_info": {
   "codemirror_mode": {
    "name": "ipython",
    "version": 3
   },
   "file_extension": ".py",
   "mimetype": "text/x-python",
   "name": "python",
   "nbconvert_exporter": "python",
   "pygments_lexer": "ipython3",
   "version": "3.5.2"
  }
 },
 "nbformat": 4,
 "nbformat_minor": 0
}

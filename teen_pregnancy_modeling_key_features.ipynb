{
 "cells": [
  {
   "cell_type": "markdown",
   "metadata": {},
   "source": [
    "Modeling done on the most important features from the total dataset as determined by a random forest regressor, evaluated against random noise"
   ]
  },
  {
   "cell_type": "code",
   "execution_count": 121,
   "metadata": {
    "collapsed": true
   },
   "outputs": [],
   "source": [
    "### Importing all of the cool things I'll need...\n",
    "\n",
    "import pandas as pd\n",
    "import numpy as np\n",
    "import matplotlib.pyplot as plt\n",
    "import seaborn as sns\n",
    "import random\n",
    "from sklearn import cross_validation\n",
    "from sklearn.cross_validation import train_test_split, cross_val_score\n",
    "from sklearn.neighbors import KNeighborsClassifier\n",
    "from sklearn.linear_model import LogisticRegression\n",
    "from sklearn.metrics import accuracy_score, precision_score, recall_score, f1_score, roc_auc_score, roc_curve\n",
    "from sklearn.learning_curve import learning_curve\n",
    "from sklearn.naive_bayes import GaussianNB\n",
    "from sklearn.svm import SVC\n",
    "from sklearn.tree import DecisionTreeClassifier\n",
    "from sklearn.ensemble import RandomForestClassifier, GradientBoostingClassifier\n",
    "\n",
    "%matplotlib inline"
   ]
  },
  {
   "cell_type": "code",
   "execution_count": null,
   "metadata": {
    "collapsed": true
   },
   "outputs": [],
   "source": [
    "### Function to calculate cross-validation scores across models\n",
    "\n",
    "def cv_score_means(model, X, y, score_type):\n",
    "    scores = cross_val_score(model, X, y, cv=30, scoring=score_type)\n",
    "    return scores.mean()"
   ]
  },
  {
   "cell_type": "code",
   "execution_count": 111,
   "metadata": {
    "collapsed": false
   },
   "outputs": [
    {
     "data": {
      "text/html": [
       "\n",
       "<style>\n",
       "    div#notebook-container    { width: 95%; }\n",
       "    div#menubar-container     { width: 65%; }\n",
       "    div#maintoolbar-container { width: 99%; }\n",
       "</style>\n"
      ],
      "text/plain": [
       "<IPython.core.display.HTML object>"
      ]
     },
     "metadata": {},
     "output_type": "display_data"
    }
   ],
   "source": [
    "### Increases width of Jupyter notebook display\n",
    "\n",
    "from IPython.display import display, HTML\n",
    "\n",
    "display(HTML(data=\"\"\"\n",
    "<style>\n",
    "    div#notebook-container    { width: 95%; }\n",
    "    div#menubar-container     { width: 65%; }\n",
    "    div#maintoolbar-container { width: 99%; }\n",
    "</style>\n",
    "\"\"\"))"
   ]
  },
  {
   "cell_type": "code",
   "execution_count": 112,
   "metadata": {
    "collapsed": true
   },
   "outputs": [],
   "source": [
    "### Reads dataset to pandas dataframe\n",
    "\n",
    "df = pd.read_csv('mcnulty.csv')"
   ]
  },
  {
   "cell_type": "code",
   "execution_count": 126,
   "metadata": {
    "collapsed": true
   },
   "outputs": [],
   "source": [
    "### Curated list of important features as determined by the random forest regressor \n",
    "\n",
    "feature_list = ['% Children in Poverty', 'Chlamydia Rates per 100,000', \n",
    "                 '% Single-Parent Households', 'Avg Freshman Graduation Rate', 'Total % uninsured women in need of publicly funded contraceptive services,', \n",
    "                 'Adherents %', '% Obese']"
   ]
  },
  {
   "cell_type": "markdown",
   "metadata": {},
   "source": [
    "Splitting into initial test-train sets"
   ]
  },
  {
   "cell_type": "code",
   "execution_count": 114,
   "metadata": {
    "collapsed": true
   },
   "outputs": [],
   "source": [
    "tp_tgt = df['High Risk']\n",
    "tp_vars = df[feature_list]"
   ]
  },
  {
   "cell_type": "code",
   "execution_count": 115,
   "metadata": {
    "collapsed": false
   },
   "outputs": [
    {
     "name": "stderr",
     "output_type": "stream",
     "text": [
      "/Users/ramohse/anaconda/lib/python3.5/site-packages/ipykernel/__main__.py:2: SettingWithCopyWarning: \n",
      "A value is trying to be set on a copy of a slice from a DataFrame.\n",
      "Try using .loc[row_indexer,col_indexer] = value instead\n",
      "\n",
      "See the caveats in the documentation: http://pandas.pydata.org/pandas-docs/stable/indexing.html#indexing-view-versus-copy\n",
      "  from ipykernel import kernelapp as app\n"
     ]
    }
   ],
   "source": [
    "for i in feature_list:\n",
    "    tp_vars[i] = tp_vars[i].replace(np.nan, tp_vars[i].median())"
   ]
  },
  {
   "cell_type": "code",
   "execution_count": 116,
   "metadata": {
    "collapsed": true
   },
   "outputs": [],
   "source": [
    "X_train, X_test, y_train, y_test = cross_validation.train_test_split(tp_vars, tp_tgt, test_size=0.3)"
   ]
  },
  {
   "cell_type": "markdown",
   "metadata": {},
   "source": [
    "### Random Forest Model"
   ]
  },
  {
   "cell_type": "code",
   "execution_count": 117,
   "metadata": {
    "collapsed": false
   },
   "outputs": [
    {
     "name": "stdout",
     "output_type": "stream",
     "text": [
      "0.839957035446\n",
      "('% Children in Poverty', 0.36570218982759872)\n",
      "('Chlamydia Rates per 100,000', 0.11579992855776972)\n",
      "('Adherents %', 0.085677973521554637)\n",
      "('Avg Freshman Graduation Rate', 0.077384259262161262)\n",
      "('Total % uninsured women in need of publicly funded contraceptive services,', 0.064134422093231544)\n",
      "('% Single-Parent Households', 0.05976243376084045)\n",
      "('Congregations Per 10K People', 0.05556911934534145)\n",
      "('% Binge Drinking', 0.050342710115757805)\n",
      "('% Smokers', 0.045447008919974295)\n",
      "('% Obese', 0.041024607621511402)\n",
      "('Violent Crime Rate', 0.039155346974258695)\n"
     ]
    }
   ],
   "source": [
    "max_features = len(feature_list)\n",
    "\n",
    "rf =RandomForestClassifier(n_estimators = 500, max_features = max_features )\n",
    "rf.fit(X_train, y_train)\n",
    "\n",
    "a  = tp_vars.columns.values\n",
    "\n",
    "ftr_imp = list(zip(a, rf.feature_importances_))\n",
    "\n",
    "ftr_imp = sorted(ftr_imp, key=(lambda x: x[1]), reverse = True)\n",
    "\n",
    "print(rf.score(X_test, y_test))\n",
    "for i in ftr_imp:\n",
    "    print(i)"
   ]
  },
  {
   "cell_type": "markdown",
   "metadata": {},
   "source": [
    "### KNN (K-Nearest Neighbors) Model"
   ]
  },
  {
   "cell_type": "code",
   "execution_count": null,
   "metadata": {
    "collapsed": false
   },
   "outputs": [],
   "source": [
    "knn_acc = []\n",
    "rng = [x for x in range(1, 51)]\n",
    "\n",
    "for n in rng:\n",
    "    knn = KNeighborsClassifier(n_neighbors=n)\n",
    "    knn.fit(X_train, y_train)\n",
    "    acc = accuracy_score(y_test, knn.predict(X_test))\n",
    "    knn_acc.append(acc)\n",
    "    print(n, acc)"
   ]
  },
  {
   "cell_type": "markdown",
   "metadata": {},
   "source": [
    "### Logistic Regression Model"
   ]
  },
  {
   "cell_type": "code",
   "execution_count": 118,
   "metadata": {
    "collapsed": false
   },
   "outputs": [
    {
     "name": "stdout",
     "output_type": "stream",
     "text": [
      "Logistic Regression accuracy:  0.832438238453\n",
      "('% Single-Parent Households', 0.23238908298980213)\n",
      "('% Children in Poverty', 0.13457739621782397)\n",
      "('% Smokers', 0.06764208889705968)\n",
      "('Adherents %', 0.028757001543396835)\n",
      "('Total % uninsured women in need of publicly funded contraceptive services,', 0.024654917666771949)\n",
      "('Violent Crime Rate', 0.0004971160070419931)\n",
      "('Chlamydia Rates per 100,000', 0.00022468468714539124)\n",
      "('Congregations Per 10K People', -0.012146550696874396)\n",
      "('% Obese', -0.036372421018075765)\n",
      "('Avg Freshman Graduation Rate', -0.046268644603896271)\n",
      "('% Binge Drinking', -0.11430239400565388)\n"
     ]
    }
   ],
   "source": [
    "log_reg = LogisticRegression()\n",
    "log_reg.fit(X_train,y_train)\n",
    "acc_lr = accuracy_score(y_test, log_reg.predict(X_test))\n",
    "\n",
    "a  = tp_vars.columns.values\n",
    "lr_coef = list(zip(a, log_reg.coef_[0]))\n",
    "lr_coef = sorted(lr_coef, key=(lambda x: x[1]), reverse = True)\n",
    "\n",
    "print('Logistic Regression accuracy: ', acc_lr)\n",
    "for i in lr_coef:\n",
    "    print(i)"
   ]
  },
  {
   "cell_type": "code",
   "execution_count": 131,
   "metadata": {
    "collapsed": true
   },
   "outputs": [],
   "source": [
    "df['predicted_vals'] = log_reg.predict(tp_vars)"
   ]
  },
  {
   "cell_type": "code",
   "execution_count": 132,
   "metadata": {
    "collapsed": false
   },
   "outputs": [],
   "source": [
    "df_pred = df[['Locale County FIPS Code', 'predicted_vals']]"
   ]
  },
  {
   "cell_type": "code",
   "execution_count": 134,
   "metadata": {
    "collapsed": false
   },
   "outputs": [],
   "source": [
    "df_pred.to_csv('predicted.csv')"
   ]
  },
  {
   "cell_type": "code",
   "execution_count": 122,
   "metadata": {
    "collapsed": false
   },
   "outputs": [],
   "source": [
    "### Quick and dirty assessment of model performance\n",
    "\n",
    "models = {}\n",
    "\n",
    "models['KNN'] = KNeighborsClassifier(n_neighbors=20)\n",
    "models['LogReg'] = LogisticRegression()\n",
    "models['GNB'] = GaussianNB()\n",
    "models['DecTree'] = DecisionTreeClassifier()\n",
    "models['RandForest'] = RandomForestClassifier(n_estimators = 100)\n",
    "models['Gradient Trees'] = GradientBoostingClassifier()\n",
    "\n",
    "score_list = ['accuracy', 'precision', 'recall', 'f1']"
   ]
  },
  {
   "cell_type": "code",
   "execution_count": 123,
   "metadata": {
    "collapsed": false
   },
   "outputs": [
    {
     "name": "stdout",
     "output_type": "stream",
     "text": [
      "LogReg :\n",
      "accuracy 0.832413640836\n",
      "precision 0.795802787334\n",
      "recall 0.694117647059\n",
      "f1 0.723371802713\n",
      "\n",
      "GNB :\n",
      "accuracy 0.815958337779\n",
      "precision 0.759811443118\n",
      "recall 0.664824717766\n",
      "f1 0.694615029381\n",
      "\n",
      "Gradient Trees :\n",
      "accuracy 0.829871202153\n",
      "precision 0.77543139587\n",
      "recall 0.717379679144\n",
      "f1 0.728885501884\n",
      "\n",
      "DecTree :\n",
      "accuracy 0.763733181597\n",
      "precision 0.651003158652\n",
      "recall 0.649792038027\n",
      "f1 0.626120675623\n",
      "\n",
      "RandForest :\n",
      "accuracy 0.827627493865\n",
      "precision 0.776933615264\n",
      "recall 0.713339275104\n",
      "f1 0.725476723182\n",
      "\n",
      "KNN :\n",
      "accuracy 0.757170803846\n",
      "precision 0.707424014158\n",
      "recall 0.426648841355\n",
      "f1 0.507036019694\n",
      "\n"
     ]
    }
   ],
   "source": [
    "for name, model in models.items():\n",
    "    print(name, ':')\n",
    "    for m in score_list:\n",
    "        scores = cv_score_means(model, tp_vars, tp_tgt, m)\n",
    "        print(m, scores.mean())\n",
    "    print('')"
   ]
  },
  {
   "cell_type": "markdown",
   "metadata": {},
   "source": [
    "## ROC Curves\n",
    "Calculates and plots ROC curves for models"
   ]
  },
  {
   "cell_type": "code",
   "execution_count": null,
   "metadata": {
    "collapsed": false
   },
   "outputs": [],
   "source": [
    "KNN = KNeighborsClassifier(n_neighbors=23).fit(X_train, y_train)\n",
    "GNB = GaussianNB().fit(X_train, y_train)\n",
    "# SVM = SVC(probability = True).fit(X_train, y_train)\n",
    "RandForest = RandomForestClassifier(n_estimators = 5).fit(X_train, y_train)\n",
    "DecTree = DecisionTreeClassifier().fit(X_train, y_train)\n",
    "LogReg = LogisticRegression().fit(X_train, y_train)\n",
    "\n",
    "KNN_pred = KNN.predict_proba(X_test)\n",
    "GNB_pred = GNB.predict_proba(X_test)\n",
    "# SVM_pred = SVM.predict_proba(X_test)\n",
    "RandForest_pred = RandForest.predict_proba(X_test)\n",
    "DecTree_pred = DecTree.predict_proba(X_test)\n",
    "LogReg_pred = LogReg.predict_proba(X_test)"
   ]
  },
  {
   "cell_type": "code",
   "execution_count": null,
   "metadata": {
    "collapsed": false
   },
   "outputs": [],
   "source": [
    "fpr_knn, tpr_knn, thresholds_knn = roc_curve(y_test, KNN_pred[:,1])\n",
    "fpr_gnb, tpr_gnb, thresholds_gmb = roc_curve(y_test, GNB_pred[:,1])\n",
    "# fpr_svm, tpr_svm, thresholds_svm = roc_curve(y_test, SVM_pred[:,1])\n",
    "fpr_randforest, tpr_randforest, thresholds_randforest = roc_curve(y_test, RandForest_pred[:,1])\n",
    "fpr_dectree, tpr_dectree, thresholds_dectree = roc_curve(y_test, DecTree_pred[:,1])\n",
    "fpr_logreg, tpr_logreg, thresholds_logreg = roc_curve(y_test, LogReg_pred[:,1])"
   ]
  },
  {
   "cell_type": "code",
   "execution_count": null,
   "metadata": {
    "collapsed": false
   },
   "outputs": [],
   "source": [
    "# row and column sharing\n",
    "f, ((ax1, ax2), (ax3, ax4), (ax5, ax6)) = plt.subplots(3, 2, sharex='col')\n",
    "f.set_size_inches(18, 12)\n",
    "ax1.plot(fpr_knn, tpr_knn);\n",
    "ax1.plot(fpr_knn, fpr_knn, 'r--');\n",
    "ax1.set_title('KNN');\n",
    "ax2.plot(fpr_gnb, tpr_gnb);\n",
    "ax2.plot(fpr_gnb, fpr_gnb, 'r--');\n",
    "ax2.set_title('GNB');\n",
    "ax3.plot(fpr_randforest, tpr_randforest);\n",
    "ax3.plot(fpr_randforest, fpr_randforest, 'r--');\n",
    "ax3.set_title('Random Forest');\n",
    "ax4.plot(fpr_dectree, tpr_dectree);\n",
    "ax4.plot(fpr_dectree, fpr_dectree, 'r--');\n",
    "ax4.set_title('Decision Tree');\n",
    "ax5.plot(fpr_logreg, tpr_logreg);\n",
    "ax5.plot(fpr_logreg, fpr_logreg, 'r--');\n",
    "ax5.set_title('Logistic Regression');\n",
    "ax6.plot(fpr_svm, tpr_svm);\n",
    "ax6.plot(fpr_svm, fpr_svm, 'r--');\n",
    "ax6.set_title('SVM');"
   ]
  }
 ],
 "metadata": {
  "kernelspec": {
   "display_name": "Python [Root]",
   "language": "python",
   "name": "Python [Root]"
  },
  "language_info": {
   "codemirror_mode": {
    "name": "ipython",
    "version": 3
   },
   "file_extension": ".py",
   "mimetype": "text/x-python",
   "name": "python",
   "nbconvert_exporter": "python",
   "pygments_lexer": "ipython3",
   "version": "3.5.2"
  }
 },
 "nbformat": 4,
 "nbformat_minor": 0
}
